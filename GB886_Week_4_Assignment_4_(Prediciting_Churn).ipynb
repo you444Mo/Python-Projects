{
  "nbformat": 4,
  "nbformat_minor": 0,
  "metadata": {
    "colab": {
      "provenance": [],
      "toc_visible": true,
      "authorship_tag": "ABX9TyMEn0h/wlPQMWLxKaliUivT",
      "include_colab_link": true
    },
    "kernelspec": {
      "name": "python3",
      "display_name": "Python 3"
    },
    "language_info": {
      "name": "python"
    }
  },
  "cells": [
    {
      "cell_type": "markdown",
      "metadata": {
        "id": "view-in-github",
        "colab_type": "text"
      },
      "source": [
        "<a href=\"https://colab.research.google.com/github/you444Mo/Python-Projects/blob/main/GB886_Week_4_Assignment_4_(Prediciting_Churn).ipynb\" target=\"_parent\"><img src=\"https://colab.research.google.com/assets/colab-badge.svg\" alt=\"Open In Colab\"/></a>"
      ]
    },
    {
      "cell_type": "markdown",
      "source": [
        "## Predicting Churn"
      ],
      "metadata": {
        "id": "ERCg7tA2w8vv"
      }
    },
    {
      "cell_type": "markdown",
      "source": [
        "### **Initial Setup:**"
      ],
      "metadata": {
        "id": "WyP7GeDixCpN"
      }
    },
    {
      "cell_type": "code",
      "execution_count": 202,
      "metadata": {
        "id": "gMxWNV-mw1HT"
      },
      "outputs": [],
      "source": [
        "### Import Needed Packages\n",
        "import pandas as pd\n",
        "import numpy as np\n",
        "import matplotlib.pyplot as plt\n",
        "import seaborn as sns\n",
        "\n",
        "from itertools import product\n",
        "\n",
        "import statsmodels.api as sm\n",
        "from sklearn.linear_model import LogisticRegression\n",
        "from sklearn.metrics import confusion_matrix, classification_report, precision_score, roc_curve, auc"
      ]
    },
    {
      "cell_type": "code",
      "source": [
        "### Import Github repo\n",
        "! git clone https://github.com/danielbauer1979/MSDIA_PredictiveModelingAndMachineLearning.git"
      ],
      "metadata": {
        "colab": {
          "base_uri": "https://localhost:8080/"
        },
        "id": "btXwPJkqxg69",
        "outputId": "c9ee3014-a7cb-409d-f74d-953ba837eed8"
      },
      "execution_count": 203,
      "outputs": [
        {
          "output_type": "stream",
          "name": "stdout",
          "text": [
            "fatal: destination path 'MSDIA_PredictiveModelingAndMachineLearning' already exists and is not an empty directory.\n"
          ]
        }
      ]
    },
    {
      "cell_type": "code",
      "source": [
        "### Import and read data into df\n",
        "Churn_DF = pd.read_csv(\"/content/MSDIA_PredictiveModelingAndMachineLearning/GB886_IV_15_TelCoChurn.csv\")"
      ],
      "metadata": {
        "id": "3orQCdUTxvXS"
      },
      "execution_count": 204,
      "outputs": []
    },
    {
      "cell_type": "code",
      "source": [
        "### View Data Dimensions\n",
        "# Churn_DF.shape"
      ],
      "metadata": {
        "id": "XmYTy5Zo_yip"
      },
      "execution_count": 205,
      "outputs": []
    },
    {
      "cell_type": "code",
      "source": [
        "### View Data\n",
        "Churn_DF.head()"
      ],
      "metadata": {
        "colab": {
          "base_uri": "https://localhost:8080/",
          "height": 296
        },
        "id": "n0pKNVnYx5Py",
        "outputId": "8061c189-2f55-4638-df8d-60d52715dd68"
      },
      "execution_count": 206,
      "outputs": [
        {
          "output_type": "execute_result",
          "data": {
            "text/plain": [
              "   gender  SeniorCitizen Partner Dependents  tenure PhoneService  \\\n",
              "0  Female              0     Yes         No       1           No   \n",
              "1    Male              0      No         No      34          Yes   \n",
              "2    Male              0      No         No       2          Yes   \n",
              "3    Male              0      No         No      45           No   \n",
              "4  Female              0      No         No       2          Yes   \n",
              "\n",
              "      MultipleLines InternetService OnlineSecurity OnlineBackup  \\\n",
              "0  No phone service             DSL             No          Yes   \n",
              "1                No             DSL            Yes           No   \n",
              "2                No             DSL            Yes          Yes   \n",
              "3  No phone service             DSL            Yes           No   \n",
              "4                No     Fiber optic             No           No   \n",
              "\n",
              "  DeviceProtection TechSupport StreamingTV StreamingMovies        Contract  \\\n",
              "0               No          No          No              No  Month-to-month   \n",
              "1              Yes          No          No              No        One year   \n",
              "2               No          No          No              No  Month-to-month   \n",
              "3              Yes         Yes          No              No        One year   \n",
              "4               No          No          No              No  Month-to-month   \n",
              "\n",
              "  PaperlessBilling              PaymentMethod  MonthlyCharges TotalCharges  \\\n",
              "0              Yes           Electronic check           29.85        29.85   \n",
              "1               No               Mailed check           56.95       1889.5   \n",
              "2              Yes               Mailed check           53.85       108.15   \n",
              "3               No  Bank transfer (automatic)           42.30      1840.75   \n",
              "4              Yes           Electronic check           70.70       151.65   \n",
              "\n",
              "  Churn  \n",
              "0    No  \n",
              "1    No  \n",
              "2   Yes  \n",
              "3    No  \n",
              "4   Yes  "
            ],
            "text/html": [
              "\n",
              "  <div id=\"df-6b892b6c-ad1a-4956-8d1d-b581bbc59cd1\" class=\"colab-df-container\">\n",
              "    <div>\n",
              "<style scoped>\n",
              "    .dataframe tbody tr th:only-of-type {\n",
              "        vertical-align: middle;\n",
              "    }\n",
              "\n",
              "    .dataframe tbody tr th {\n",
              "        vertical-align: top;\n",
              "    }\n",
              "\n",
              "    .dataframe thead th {\n",
              "        text-align: right;\n",
              "    }\n",
              "</style>\n",
              "<table border=\"1\" class=\"dataframe\">\n",
              "  <thead>\n",
              "    <tr style=\"text-align: right;\">\n",
              "      <th></th>\n",
              "      <th>gender</th>\n",
              "      <th>SeniorCitizen</th>\n",
              "      <th>Partner</th>\n",
              "      <th>Dependents</th>\n",
              "      <th>tenure</th>\n",
              "      <th>PhoneService</th>\n",
              "      <th>MultipleLines</th>\n",
              "      <th>InternetService</th>\n",
              "      <th>OnlineSecurity</th>\n",
              "      <th>OnlineBackup</th>\n",
              "      <th>DeviceProtection</th>\n",
              "      <th>TechSupport</th>\n",
              "      <th>StreamingTV</th>\n",
              "      <th>StreamingMovies</th>\n",
              "      <th>Contract</th>\n",
              "      <th>PaperlessBilling</th>\n",
              "      <th>PaymentMethod</th>\n",
              "      <th>MonthlyCharges</th>\n",
              "      <th>TotalCharges</th>\n",
              "      <th>Churn</th>\n",
              "    </tr>\n",
              "  </thead>\n",
              "  <tbody>\n",
              "    <tr>\n",
              "      <th>0</th>\n",
              "      <td>Female</td>\n",
              "      <td>0</td>\n",
              "      <td>Yes</td>\n",
              "      <td>No</td>\n",
              "      <td>1</td>\n",
              "      <td>No</td>\n",
              "      <td>No phone service</td>\n",
              "      <td>DSL</td>\n",
              "      <td>No</td>\n",
              "      <td>Yes</td>\n",
              "      <td>No</td>\n",
              "      <td>No</td>\n",
              "      <td>No</td>\n",
              "      <td>No</td>\n",
              "      <td>Month-to-month</td>\n",
              "      <td>Yes</td>\n",
              "      <td>Electronic check</td>\n",
              "      <td>29.85</td>\n",
              "      <td>29.85</td>\n",
              "      <td>No</td>\n",
              "    </tr>\n",
              "    <tr>\n",
              "      <th>1</th>\n",
              "      <td>Male</td>\n",
              "      <td>0</td>\n",
              "      <td>No</td>\n",
              "      <td>No</td>\n",
              "      <td>34</td>\n",
              "      <td>Yes</td>\n",
              "      <td>No</td>\n",
              "      <td>DSL</td>\n",
              "      <td>Yes</td>\n",
              "      <td>No</td>\n",
              "      <td>Yes</td>\n",
              "      <td>No</td>\n",
              "      <td>No</td>\n",
              "      <td>No</td>\n",
              "      <td>One year</td>\n",
              "      <td>No</td>\n",
              "      <td>Mailed check</td>\n",
              "      <td>56.95</td>\n",
              "      <td>1889.5</td>\n",
              "      <td>No</td>\n",
              "    </tr>\n",
              "    <tr>\n",
              "      <th>2</th>\n",
              "      <td>Male</td>\n",
              "      <td>0</td>\n",
              "      <td>No</td>\n",
              "      <td>No</td>\n",
              "      <td>2</td>\n",
              "      <td>Yes</td>\n",
              "      <td>No</td>\n",
              "      <td>DSL</td>\n",
              "      <td>Yes</td>\n",
              "      <td>Yes</td>\n",
              "      <td>No</td>\n",
              "      <td>No</td>\n",
              "      <td>No</td>\n",
              "      <td>No</td>\n",
              "      <td>Month-to-month</td>\n",
              "      <td>Yes</td>\n",
              "      <td>Mailed check</td>\n",
              "      <td>53.85</td>\n",
              "      <td>108.15</td>\n",
              "      <td>Yes</td>\n",
              "    </tr>\n",
              "    <tr>\n",
              "      <th>3</th>\n",
              "      <td>Male</td>\n",
              "      <td>0</td>\n",
              "      <td>No</td>\n",
              "      <td>No</td>\n",
              "      <td>45</td>\n",
              "      <td>No</td>\n",
              "      <td>No phone service</td>\n",
              "      <td>DSL</td>\n",
              "      <td>Yes</td>\n",
              "      <td>No</td>\n",
              "      <td>Yes</td>\n",
              "      <td>Yes</td>\n",
              "      <td>No</td>\n",
              "      <td>No</td>\n",
              "      <td>One year</td>\n",
              "      <td>No</td>\n",
              "      <td>Bank transfer (automatic)</td>\n",
              "      <td>42.30</td>\n",
              "      <td>1840.75</td>\n",
              "      <td>No</td>\n",
              "    </tr>\n",
              "    <tr>\n",
              "      <th>4</th>\n",
              "      <td>Female</td>\n",
              "      <td>0</td>\n",
              "      <td>No</td>\n",
              "      <td>No</td>\n",
              "      <td>2</td>\n",
              "      <td>Yes</td>\n",
              "      <td>No</td>\n",
              "      <td>Fiber optic</td>\n",
              "      <td>No</td>\n",
              "      <td>No</td>\n",
              "      <td>No</td>\n",
              "      <td>No</td>\n",
              "      <td>No</td>\n",
              "      <td>No</td>\n",
              "      <td>Month-to-month</td>\n",
              "      <td>Yes</td>\n",
              "      <td>Electronic check</td>\n",
              "      <td>70.70</td>\n",
              "      <td>151.65</td>\n",
              "      <td>Yes</td>\n",
              "    </tr>\n",
              "  </tbody>\n",
              "</table>\n",
              "</div>\n",
              "    <div class=\"colab-df-buttons\">\n",
              "\n",
              "  <div class=\"colab-df-container\">\n",
              "    <button class=\"colab-df-convert\" onclick=\"convertToInteractive('df-6b892b6c-ad1a-4956-8d1d-b581bbc59cd1')\"\n",
              "            title=\"Convert this dataframe to an interactive table.\"\n",
              "            style=\"display:none;\">\n",
              "\n",
              "  <svg xmlns=\"http://www.w3.org/2000/svg\" height=\"24px\" viewBox=\"0 -960 960 960\">\n",
              "    <path d=\"M120-120v-720h720v720H120Zm60-500h600v-160H180v160Zm220 220h160v-160H400v160Zm0 220h160v-160H400v160ZM180-400h160v-160H180v160Zm440 0h160v-160H620v160ZM180-180h160v-160H180v160Zm440 0h160v-160H620v160Z\"/>\n",
              "  </svg>\n",
              "    </button>\n",
              "\n",
              "  <style>\n",
              "    .colab-df-container {\n",
              "      display:flex;\n",
              "      gap: 12px;\n",
              "    }\n",
              "\n",
              "    .colab-df-convert {\n",
              "      background-color: #E8F0FE;\n",
              "      border: none;\n",
              "      border-radius: 50%;\n",
              "      cursor: pointer;\n",
              "      display: none;\n",
              "      fill: #1967D2;\n",
              "      height: 32px;\n",
              "      padding: 0 0 0 0;\n",
              "      width: 32px;\n",
              "    }\n",
              "\n",
              "    .colab-df-convert:hover {\n",
              "      background-color: #E2EBFA;\n",
              "      box-shadow: 0px 1px 2px rgba(60, 64, 67, 0.3), 0px 1px 3px 1px rgba(60, 64, 67, 0.15);\n",
              "      fill: #174EA6;\n",
              "    }\n",
              "\n",
              "    .colab-df-buttons div {\n",
              "      margin-bottom: 4px;\n",
              "    }\n",
              "\n",
              "    [theme=dark] .colab-df-convert {\n",
              "      background-color: #3B4455;\n",
              "      fill: #D2E3FC;\n",
              "    }\n",
              "\n",
              "    [theme=dark] .colab-df-convert:hover {\n",
              "      background-color: #434B5C;\n",
              "      box-shadow: 0px 1px 3px 1px rgba(0, 0, 0, 0.15);\n",
              "      filter: drop-shadow(0px 1px 2px rgba(0, 0, 0, 0.3));\n",
              "      fill: #FFFFFF;\n",
              "    }\n",
              "  </style>\n",
              "\n",
              "    <script>\n",
              "      const buttonEl =\n",
              "        document.querySelector('#df-6b892b6c-ad1a-4956-8d1d-b581bbc59cd1 button.colab-df-convert');\n",
              "      buttonEl.style.display =\n",
              "        google.colab.kernel.accessAllowed ? 'block' : 'none';\n",
              "\n",
              "      async function convertToInteractive(key) {\n",
              "        const element = document.querySelector('#df-6b892b6c-ad1a-4956-8d1d-b581bbc59cd1');\n",
              "        const dataTable =\n",
              "          await google.colab.kernel.invokeFunction('convertToInteractive',\n",
              "                                                    [key], {});\n",
              "        if (!dataTable) return;\n",
              "\n",
              "        const docLinkHtml = 'Like what you see? Visit the ' +\n",
              "          '<a target=\"_blank\" href=https://colab.research.google.com/notebooks/data_table.ipynb>data table notebook</a>'\n",
              "          + ' to learn more about interactive tables.';\n",
              "        element.innerHTML = '';\n",
              "        dataTable['output_type'] = 'display_data';\n",
              "        await google.colab.output.renderOutput(dataTable, element);\n",
              "        const docLink = document.createElement('div');\n",
              "        docLink.innerHTML = docLinkHtml;\n",
              "        element.appendChild(docLink);\n",
              "      }\n",
              "    </script>\n",
              "  </div>\n",
              "\n",
              "\n",
              "    <div id=\"df-7c721d52-d984-444b-b95d-6967cc2c2823\">\n",
              "      <button class=\"colab-df-quickchart\" onclick=\"quickchart('df-7c721d52-d984-444b-b95d-6967cc2c2823')\"\n",
              "                title=\"Suggest charts\"\n",
              "                style=\"display:none;\">\n",
              "\n",
              "<svg xmlns=\"http://www.w3.org/2000/svg\" height=\"24px\"viewBox=\"0 0 24 24\"\n",
              "     width=\"24px\">\n",
              "    <g>\n",
              "        <path d=\"M19 3H5c-1.1 0-2 .9-2 2v14c0 1.1.9 2 2 2h14c1.1 0 2-.9 2-2V5c0-1.1-.9-2-2-2zM9 17H7v-7h2v7zm4 0h-2V7h2v10zm4 0h-2v-4h2v4z\"/>\n",
              "    </g>\n",
              "</svg>\n",
              "      </button>\n",
              "\n",
              "<style>\n",
              "  .colab-df-quickchart {\n",
              "      --bg-color: #E8F0FE;\n",
              "      --fill-color: #1967D2;\n",
              "      --hover-bg-color: #E2EBFA;\n",
              "      --hover-fill-color: #174EA6;\n",
              "      --disabled-fill-color: #AAA;\n",
              "      --disabled-bg-color: #DDD;\n",
              "  }\n",
              "\n",
              "  [theme=dark] .colab-df-quickchart {\n",
              "      --bg-color: #3B4455;\n",
              "      --fill-color: #D2E3FC;\n",
              "      --hover-bg-color: #434B5C;\n",
              "      --hover-fill-color: #FFFFFF;\n",
              "      --disabled-bg-color: #3B4455;\n",
              "      --disabled-fill-color: #666;\n",
              "  }\n",
              "\n",
              "  .colab-df-quickchart {\n",
              "    background-color: var(--bg-color);\n",
              "    border: none;\n",
              "    border-radius: 50%;\n",
              "    cursor: pointer;\n",
              "    display: none;\n",
              "    fill: var(--fill-color);\n",
              "    height: 32px;\n",
              "    padding: 0;\n",
              "    width: 32px;\n",
              "  }\n",
              "\n",
              "  .colab-df-quickchart:hover {\n",
              "    background-color: var(--hover-bg-color);\n",
              "    box-shadow: 0 1px 2px rgba(60, 64, 67, 0.3), 0 1px 3px 1px rgba(60, 64, 67, 0.15);\n",
              "    fill: var(--button-hover-fill-color);\n",
              "  }\n",
              "\n",
              "  .colab-df-quickchart-complete:disabled,\n",
              "  .colab-df-quickchart-complete:disabled:hover {\n",
              "    background-color: var(--disabled-bg-color);\n",
              "    fill: var(--disabled-fill-color);\n",
              "    box-shadow: none;\n",
              "  }\n",
              "\n",
              "  .colab-df-spinner {\n",
              "    border: 2px solid var(--fill-color);\n",
              "    border-color: transparent;\n",
              "    border-bottom-color: var(--fill-color);\n",
              "    animation:\n",
              "      spin 1s steps(1) infinite;\n",
              "  }\n",
              "\n",
              "  @keyframes spin {\n",
              "    0% {\n",
              "      border-color: transparent;\n",
              "      border-bottom-color: var(--fill-color);\n",
              "      border-left-color: var(--fill-color);\n",
              "    }\n",
              "    20% {\n",
              "      border-color: transparent;\n",
              "      border-left-color: var(--fill-color);\n",
              "      border-top-color: var(--fill-color);\n",
              "    }\n",
              "    30% {\n",
              "      border-color: transparent;\n",
              "      border-left-color: var(--fill-color);\n",
              "      border-top-color: var(--fill-color);\n",
              "      border-right-color: var(--fill-color);\n",
              "    }\n",
              "    40% {\n",
              "      border-color: transparent;\n",
              "      border-right-color: var(--fill-color);\n",
              "      border-top-color: var(--fill-color);\n",
              "    }\n",
              "    60% {\n",
              "      border-color: transparent;\n",
              "      border-right-color: var(--fill-color);\n",
              "    }\n",
              "    80% {\n",
              "      border-color: transparent;\n",
              "      border-right-color: var(--fill-color);\n",
              "      border-bottom-color: var(--fill-color);\n",
              "    }\n",
              "    90% {\n",
              "      border-color: transparent;\n",
              "      border-bottom-color: var(--fill-color);\n",
              "    }\n",
              "  }\n",
              "</style>\n",
              "\n",
              "      <script>\n",
              "        async function quickchart(key) {\n",
              "          const quickchartButtonEl =\n",
              "            document.querySelector('#' + key + ' button');\n",
              "          quickchartButtonEl.disabled = true;  // To prevent multiple clicks.\n",
              "          quickchartButtonEl.classList.add('colab-df-spinner');\n",
              "          try {\n",
              "            const charts = await google.colab.kernel.invokeFunction(\n",
              "                'suggestCharts', [key], {});\n",
              "          } catch (error) {\n",
              "            console.error('Error during call to suggestCharts:', error);\n",
              "          }\n",
              "          quickchartButtonEl.classList.remove('colab-df-spinner');\n",
              "          quickchartButtonEl.classList.add('colab-df-quickchart-complete');\n",
              "        }\n",
              "        (() => {\n",
              "          let quickchartButtonEl =\n",
              "            document.querySelector('#df-7c721d52-d984-444b-b95d-6967cc2c2823 button');\n",
              "          quickchartButtonEl.style.display =\n",
              "            google.colab.kernel.accessAllowed ? 'block' : 'none';\n",
              "        })();\n",
              "      </script>\n",
              "    </div>\n",
              "\n",
              "    </div>\n",
              "  </div>\n"
            ],
            "application/vnd.google.colaboratory.intrinsic+json": {
              "type": "dataframe",
              "variable_name": "Churn_DF",
              "summary": "{\n  \"name\": \"Churn_DF\",\n  \"rows\": 7043,\n  \"fields\": [\n    {\n      \"column\": \"gender\",\n      \"properties\": {\n        \"dtype\": \"category\",\n        \"num_unique_values\": 2,\n        \"samples\": [\n          \"Male\",\n          \"Female\"\n        ],\n        \"semantic_type\": \"\",\n        \"description\": \"\"\n      }\n    },\n    {\n      \"column\": \"SeniorCitizen\",\n      \"properties\": {\n        \"dtype\": \"number\",\n        \"std\": 0,\n        \"min\": 0,\n        \"max\": 1,\n        \"num_unique_values\": 2,\n        \"samples\": [\n          1,\n          0\n        ],\n        \"semantic_type\": \"\",\n        \"description\": \"\"\n      }\n    },\n    {\n      \"column\": \"Partner\",\n      \"properties\": {\n        \"dtype\": \"category\",\n        \"num_unique_values\": 2,\n        \"samples\": [\n          \"No\",\n          \"Yes\"\n        ],\n        \"semantic_type\": \"\",\n        \"description\": \"\"\n      }\n    },\n    {\n      \"column\": \"Dependents\",\n      \"properties\": {\n        \"dtype\": \"category\",\n        \"num_unique_values\": 2,\n        \"samples\": [\n          \"Yes\",\n          \"No\"\n        ],\n        \"semantic_type\": \"\",\n        \"description\": \"\"\n      }\n    },\n    {\n      \"column\": \"tenure\",\n      \"properties\": {\n        \"dtype\": \"number\",\n        \"std\": 24,\n        \"min\": 0,\n        \"max\": 72,\n        \"num_unique_values\": 73,\n        \"samples\": [\n          8,\n          40\n        ],\n        \"semantic_type\": \"\",\n        \"description\": \"\"\n      }\n    },\n    {\n      \"column\": \"PhoneService\",\n      \"properties\": {\n        \"dtype\": \"category\",\n        \"num_unique_values\": 2,\n        \"samples\": [\n          \"Yes\",\n          \"No\"\n        ],\n        \"semantic_type\": \"\",\n        \"description\": \"\"\n      }\n    },\n    {\n      \"column\": \"MultipleLines\",\n      \"properties\": {\n        \"dtype\": \"category\",\n        \"num_unique_values\": 3,\n        \"samples\": [\n          \"No phone service\",\n          \"No\"\n        ],\n        \"semantic_type\": \"\",\n        \"description\": \"\"\n      }\n    },\n    {\n      \"column\": \"InternetService\",\n      \"properties\": {\n        \"dtype\": \"category\",\n        \"num_unique_values\": 3,\n        \"samples\": [\n          \"DSL\",\n          \"Fiber optic\"\n        ],\n        \"semantic_type\": \"\",\n        \"description\": \"\"\n      }\n    },\n    {\n      \"column\": \"OnlineSecurity\",\n      \"properties\": {\n        \"dtype\": \"category\",\n        \"num_unique_values\": 3,\n        \"samples\": [\n          \"No\",\n          \"Yes\"\n        ],\n        \"semantic_type\": \"\",\n        \"description\": \"\"\n      }\n    },\n    {\n      \"column\": \"OnlineBackup\",\n      \"properties\": {\n        \"dtype\": \"category\",\n        \"num_unique_values\": 3,\n        \"samples\": [\n          \"Yes\",\n          \"No\"\n        ],\n        \"semantic_type\": \"\",\n        \"description\": \"\"\n      }\n    },\n    {\n      \"column\": \"DeviceProtection\",\n      \"properties\": {\n        \"dtype\": \"category\",\n        \"num_unique_values\": 3,\n        \"samples\": [\n          \"No\",\n          \"Yes\"\n        ],\n        \"semantic_type\": \"\",\n        \"description\": \"\"\n      }\n    },\n    {\n      \"column\": \"TechSupport\",\n      \"properties\": {\n        \"dtype\": \"category\",\n        \"num_unique_values\": 3,\n        \"samples\": [\n          \"No\",\n          \"Yes\"\n        ],\n        \"semantic_type\": \"\",\n        \"description\": \"\"\n      }\n    },\n    {\n      \"column\": \"StreamingTV\",\n      \"properties\": {\n        \"dtype\": \"category\",\n        \"num_unique_values\": 3,\n        \"samples\": [\n          \"No\",\n          \"Yes\"\n        ],\n        \"semantic_type\": \"\",\n        \"description\": \"\"\n      }\n    },\n    {\n      \"column\": \"StreamingMovies\",\n      \"properties\": {\n        \"dtype\": \"category\",\n        \"num_unique_values\": 3,\n        \"samples\": [\n          \"No\",\n          \"Yes\"\n        ],\n        \"semantic_type\": \"\",\n        \"description\": \"\"\n      }\n    },\n    {\n      \"column\": \"Contract\",\n      \"properties\": {\n        \"dtype\": \"category\",\n        \"num_unique_values\": 3,\n        \"samples\": [\n          \"Month-to-month\",\n          \"One year\"\n        ],\n        \"semantic_type\": \"\",\n        \"description\": \"\"\n      }\n    },\n    {\n      \"column\": \"PaperlessBilling\",\n      \"properties\": {\n        \"dtype\": \"category\",\n        \"num_unique_values\": 2,\n        \"samples\": [\n          \"No\",\n          \"Yes\"\n        ],\n        \"semantic_type\": \"\",\n        \"description\": \"\"\n      }\n    },\n    {\n      \"column\": \"PaymentMethod\",\n      \"properties\": {\n        \"dtype\": \"category\",\n        \"num_unique_values\": 4,\n        \"samples\": [\n          \"Mailed check\",\n          \"Credit card (automatic)\"\n        ],\n        \"semantic_type\": \"\",\n        \"description\": \"\"\n      }\n    },\n    {\n      \"column\": \"MonthlyCharges\",\n      \"properties\": {\n        \"dtype\": \"number\",\n        \"std\": 30.09004709767854,\n        \"min\": 18.25,\n        \"max\": 118.75,\n        \"num_unique_values\": 1585,\n        \"samples\": [\n          48.85,\n          20.05\n        ],\n        \"semantic_type\": \"\",\n        \"description\": \"\"\n      }\n    },\n    {\n      \"column\": \"TotalCharges\",\n      \"properties\": {\n        \"dtype\": \"string\",\n        \"num_unique_values\": 6531,\n        \"samples\": [\n          \"4600.7\",\n          \"20.35\"\n        ],\n        \"semantic_type\": \"\",\n        \"description\": \"\"\n      }\n    },\n    {\n      \"column\": \"Churn\",\n      \"properties\": {\n        \"dtype\": \"category\",\n        \"num_unique_values\": 2,\n        \"samples\": [\n          \"Yes\",\n          \"No\"\n        ],\n        \"semantic_type\": \"\",\n        \"description\": \"\"\n      }\n    }\n  ]\n}"
            }
          },
          "metadata": {},
          "execution_count": 206
        }
      ]
    },
    {
      "cell_type": "code",
      "source": [
        "### View Data Types\n",
        "# Churn_DF.info()"
      ],
      "metadata": {
        "id": "CYfaheID26An"
      },
      "execution_count": 207,
      "outputs": []
    },
    {
      "cell_type": "code",
      "source": [
        "### View Stats on Data\n",
        "# Churn_DF.describe()"
      ],
      "metadata": {
        "id": "2RmvBjU5Azgr"
      },
      "execution_count": 208,
      "outputs": []
    },
    {
      "cell_type": "code",
      "source": [
        "### Check Distribution of Churn Field\n",
        "Churn_DF['Churn'].value_counts()"
      ],
      "metadata": {
        "colab": {
          "base_uri": "https://localhost:8080/",
          "height": 178
        },
        "id": "z2Ldgv0H3D_l",
        "outputId": "1496d292-1462-488f-e467-c2ac5474eaa4"
      },
      "execution_count": 209,
      "outputs": [
        {
          "output_type": "execute_result",
          "data": {
            "text/plain": [
              "Churn\n",
              "No     5174\n",
              "Yes    1869\n",
              "Name: count, dtype: int64"
            ],
            "text/html": [
              "<div>\n",
              "<style scoped>\n",
              "    .dataframe tbody tr th:only-of-type {\n",
              "        vertical-align: middle;\n",
              "    }\n",
              "\n",
              "    .dataframe tbody tr th {\n",
              "        vertical-align: top;\n",
              "    }\n",
              "\n",
              "    .dataframe thead th {\n",
              "        text-align: right;\n",
              "    }\n",
              "</style>\n",
              "<table border=\"1\" class=\"dataframe\">\n",
              "  <thead>\n",
              "    <tr style=\"text-align: right;\">\n",
              "      <th></th>\n",
              "      <th>count</th>\n",
              "    </tr>\n",
              "    <tr>\n",
              "      <th>Churn</th>\n",
              "      <th></th>\n",
              "    </tr>\n",
              "  </thead>\n",
              "  <tbody>\n",
              "    <tr>\n",
              "      <th>No</th>\n",
              "      <td>5174</td>\n",
              "    </tr>\n",
              "    <tr>\n",
              "      <th>Yes</th>\n",
              "      <td>1869</td>\n",
              "    </tr>\n",
              "  </tbody>\n",
              "</table>\n",
              "</div><br><label><b>dtype:</b> int64</label>"
            ]
          },
          "metadata": {},
          "execution_count": 209
        }
      ]
    },
    {
      "cell_type": "markdown",
      "source": [
        "### **Prepare For Modeling:**"
      ],
      "metadata": {
        "id": "U8nVZDg03-15"
      }
    },
    {
      "cell_type": "code",
      "source": [
        "### convert Total Charges Field to Float\n",
        "Churn_DF['TotalCharges'] = pd.to_numeric(Churn_DF['TotalCharges'], errors= 'coerce') # errors='coerce' will replace invalid values with NaN."
      ],
      "metadata": {
        "id": "o-C52Kmn4uQs"
      },
      "execution_count": 210,
      "outputs": []
    },
    {
      "cell_type": "code",
      "source": [
        "### Check for nulls in newly converted TotalCharges Field\n",
        "print(Churn_DF['TotalCharges'].isnull().sum())\n",
        "# Find average total charge\n",
        "avg_total_charge = np.mean(Churn_DF['TotalCharges'])\n",
        "# Impute Nulls in Total Charges Field with avg total charge\n",
        "Churn_DF['TotalCharges'] = Churn_DF['TotalCharges'].fillna(avg_total_charge)\n",
        "# Check to see if nulls are gone\n",
        "print(Churn_DF['TotalCharges'].isnull().sum())"
      ],
      "metadata": {
        "colab": {
          "base_uri": "https://localhost:8080/"
        },
        "id": "OJwIwpApCdo6",
        "outputId": "ebc64408-dc7a-4d27-f351-e683fe3e31e4"
      },
      "execution_count": 211,
      "outputs": [
        {
          "output_type": "stream",
          "name": "stdout",
          "text": [
            "11\n",
            "0\n"
          ]
        }
      ]
    },
    {
      "cell_type": "code",
      "source": [
        "### Grab Object Fields and convert them to dummy variables\n",
        "obj_fields = Churn_DF.select_dtypes(include = ['object'])\n",
        "\n",
        "# Adding senior citizen back to the df, and converting to a factor datatype\n",
        "obj_fields['SeniorCitizen'] = Churn_DF['SeniorCitizen'].astype(\"category\")\n",
        "\n",
        "# Convert Object Fields to dummies\n",
        "Dummy_Fields = pd.get_dummies(\n",
        "    data = obj_fields,\n",
        "    dtype = 'int64',\n",
        "    drop_first = True\n",
        ")"
      ],
      "metadata": {
        "id": "Tgv5UISO5jVy"
      },
      "execution_count": 212,
      "outputs": []
    },
    {
      "cell_type": "code",
      "source": [
        "### Create Copy of Churn_DF\n",
        "Churn_DF_Modeling = Churn_DF.copy()\n",
        "\n",
        "# Drop all obj datatype fields from DF\n",
        "Churn_DF_Modeling.drop(columns = obj_fields, inplace = True)\n",
        "\n",
        "# Add Back dummy version of dropped fields\n",
        "Churn_DF_Final = pd.concat([Churn_DF_Modeling,Dummy_Fields], axis = 1)"
      ],
      "metadata": {
        "id": "Ofx-AUml6Jzy"
      },
      "execution_count": 213,
      "outputs": []
    },
    {
      "cell_type": "code",
      "source": [
        "### Rename Churn Field\n",
        "Churn_DF_Final.rename(\n",
        "    columns= {\n",
        "        'Churn_Yes' : 'Churn'\n",
        "    }, inplace = True\n",
        ")\n",
        "\n",
        "### View Final Churn DF that will be used for modeling\n",
        "# Churn_DF_Final.head()"
      ],
      "metadata": {
        "id": "qY2-nfQQ8oII"
      },
      "execution_count": 214,
      "outputs": []
    },
    {
      "cell_type": "markdown",
      "source": [
        "### Modeling (Fit + Interpretation):"
      ],
      "metadata": {
        "id": "7SFScyy1-r1Q"
      }
    },
    {
      "cell_type": "code",
      "source": [
        "### Set Target and Feature Variables\n",
        "# Target\n",
        "Y = Churn_DF_Final['Churn']\n",
        "# Features\n",
        "X = Churn_DF_Final.drop(columns = 'Churn')\n",
        "# Add Constant to Features\n",
        "X = sm.add_constant(X)"
      ],
      "metadata": {
        "id": "GshkbN-l-xEE"
      },
      "execution_count": 215,
      "outputs": []
    },
    {
      "cell_type": "code",
      "source": [
        "### Fit Model and Show Summary\n",
        "Churn_Logit = sm.Logit(Y,X) ### Logit link function\n",
        "Churn_Logit_Res = Churn_Logit.fit() ### Fit model (Maximizes the log likelihood function to estimate Beta(s) that provide the best estime for P(x))\n",
        "\n",
        "### Show Model Summary\n",
        "print(Churn_Logit_Res.summary())\n"
      ],
      "metadata": {
        "colab": {
          "base_uri": "https://localhost:8080/"
        },
        "id": "m8ju5L_SBta9",
        "outputId": "0349ae87-899f-458d-da2c-c65187726fa3"
      },
      "execution_count": 216,
      "outputs": [
        {
          "output_type": "stream",
          "name": "stdout",
          "text": [
            "Optimization terminated successfully.\n",
            "         Current function value: 0.413899\n",
            "         Iterations 9\n",
            "                           Logit Regression Results                           \n",
            "==============================================================================\n",
            "Dep. Variable:                  Churn   No. Observations:                 7043\n",
            "Model:                          Logit   Df Residuals:                     7019\n",
            "Method:                           MLE   Df Model:                           23\n",
            "Date:                Wed, 29 Oct 2025   Pseudo R-squ.:                  0.2847\n",
            "Time:                        10:45:02   Log-Likelihood:                -2915.1\n",
            "converged:                       True   LL-Null:                       -4075.1\n",
            "Covariance Type:            nonrobust   LLR p-value:                     0.000\n",
            "=========================================================================================================\n",
            "                                            coef    std err          z      P>|z|      [0.025      0.975]\n",
            "---------------------------------------------------------------------------------------------------------\n",
            "const                                     0.8170   5.22e+06   1.56e-07      1.000   -1.02e+07    1.02e+07\n",
            "tenure                                   -0.0585      0.006     -9.671      0.000      -0.070      -0.047\n",
            "MonthlyCharges                           -0.0402      0.032     -1.266      0.205      -0.102       0.022\n",
            "TotalCharges                              0.0003   6.91e-05      4.466      0.000       0.000       0.000\n",
            "gender_Male                              -0.0219      0.065     -0.338      0.736      -0.149       0.105\n",
            "Partner_Yes                              -0.0032      0.078     -0.042      0.967      -0.156       0.149\n",
            "Dependents_Yes                           -0.1553      0.090     -1.732      0.083      -0.331       0.020\n",
            "PhoneService_Yes                          0.4990   5.22e+06   9.55e-08      1.000   -1.02e+07    1.02e+07\n",
            "MultipleLines_No phone service            0.3180   5.22e+06   6.09e-08      1.000   -1.02e+07    1.02e+07\n",
            "MultipleLines_Yes                         0.4468      0.177      2.523      0.012       0.100       0.794\n",
            "InternetService_Fiber optic               1.7530      0.798      2.198      0.028       0.190       3.316\n",
            "InternetService_No                       -0.2553        nan        nan        nan         nan         nan\n",
            "OnlineSecurity_No internet service       -0.2553        nan        nan        nan         nan         nan\n",
            "OnlineSecurity_Yes                       -0.2054      0.179     -1.150      0.250      -0.556       0.145\n",
            "OnlineBackup_No internet service         -0.2553        nan        nan        nan         nan         nan\n",
            "OnlineBackup_Yes                          0.0261      0.175      0.149      0.881      -0.317       0.370\n",
            "DeviceProtection_No internet service     -0.2553        nan        nan        nan         nan         nan\n",
            "DeviceProtection_Yes                      0.1480      0.176      0.839      0.401      -0.198       0.494\n",
            "TechSupport_No internet service          -0.2553        nan        nan        nan         nan         nan\n",
            "TechSupport_Yes                          -0.1784      0.180     -0.988      0.323      -0.532       0.175\n",
            "StreamingTV_No internet service          -0.2553        nan        nan        nan         nan         nan\n",
            "StreamingTV_Yes                           0.5912      0.326      1.813      0.070      -0.048       1.230\n",
            "StreamingMovies_No internet service      -0.2553        nan        nan        nan         nan         nan\n",
            "StreamingMovies_Yes                       0.6047      0.326      1.853      0.064      -0.035       1.244\n",
            "Contract_One year                        -0.6685      0.107     -6.223      0.000      -0.879      -0.458\n",
            "Contract_Two year                        -1.3962      0.176     -7.940      0.000      -1.741      -1.052\n",
            "PaperlessBilling_Yes                      0.3416      0.074      4.588      0.000       0.196       0.488\n",
            "PaymentMethod_Credit card (automatic)    -0.0862      0.114     -0.756      0.450      -0.310       0.137\n",
            "PaymentMethod_Electronic check            0.3062      0.094      3.241      0.001       0.121       0.491\n",
            "PaymentMethod_Mailed check               -0.0553      0.115     -0.482      0.630      -0.280       0.170\n",
            "SeniorCitizen_1                           0.2147      0.085      2.540      0.011       0.049       0.380\n",
            "=========================================================================================================\n"
          ]
        }
      ]
    },
    {
      "cell_type": "markdown",
      "source": [
        "**<u>Model Interpretation:</U>**\n",
        "\n",
        "* Statsmodel was successfuly able to maximize the log likelihood function and find the optimal paramters (B0, B1, B2, etc...) in only 9 iterations.\n",
        "* The Pseudo R-squared sits at 0.2847, indicating that about 28.47% of the variation in Y (Churn) is explained by the model.\n",
        "* When interpeting some of the beta coefficients, some key highlights we noticed are:\n",
        "  * Tenure has a statistically significant negative association with Churn (for every unit change in tenure, the log odds of churning decreases by -0.0585). In terms of odds, the odds of churning decreases by a factor of e^-0.0585 (0.9431) which is about 5.7%.\n",
        "  * Multiple_Lines_Yes has a statistically significant positive association with Churn (if a customer has multiple lines of business, the log odds of churning increases by 0.4468). In terms of odds, the odds of churning increases by a factor of e^0.4468 (1.5633) which is about 56.33%!\n",
        "  * Contract_Two year has a significant negative association with Churn (if a customer has a two year contract with the business, the log odds of churning decreases by -1.3962). In terms of odds, the odds of churning decreases by a factor of e^-1.3962 (0.2475) which is about 24.75%.\n",
        "\n",
        "Overall, the model output provides a look into which variables may be the key drivers of predicting churn.\n"
      ],
      "metadata": {
        "id": "AFZ8cGYaFVdd"
      }
    },
    {
      "cell_type": "markdown",
      "source": [
        "### **Model Validation:**"
      ],
      "metadata": {
        "id": "yOCkN_28N70B"
      }
    },
    {
      "cell_type": "markdown",
      "source": [
        "#### Calibration Plot"
      ],
      "metadata": {
        "id": "JxsJOw_HSoTl"
      }
    },
    {
      "cell_type": "code",
      "source": [
        "### Calibration Plot\n",
        "Churn_DF_Final['P_Churn'] = Churn_Logit_Res.predict()\n",
        "Churn_DF_Final['decile'] = pd.qcut(Churn_DF_Final['P_Churn'], 20, labels=False) ### 20 is the total decile groups created (segments)\n",
        "\n",
        "# Calculate the average predicted probability and actual default rate for each decile\n",
        "decile_stats = Churn_DF_Final.groupby('decile').agg({'P_Churn': 'mean', 'Churn': 'mean'})\n",
        "\n",
        "# Scatterplot of predicted probabilities vs actual default rates\n",
        "plt.figure(figsize=(8, 6))\n",
        "plt.scatter(decile_stats['P_Churn'], decile_stats['Churn'])\n",
        "plt.xlabel('Predicted Probability (Decile)')\n",
        "plt.ylabel('Actual Churn Rate')\n",
        "plt.title('Calibration Plot for Logistic Regression')\n",
        "\n",
        "# Add a line with slope 1\n",
        "plt.plot([0, 1], [0, 1], linestyle='--', color='gray')\n",
        "\n",
        "plt.show()"
      ],
      "metadata": {
        "colab": {
          "base_uri": "https://localhost:8080/",
          "height": 564
        },
        "id": "IFyx4CgjQKiG",
        "outputId": "c2457cdd-cace-4b93-eabf-92c19fbbd466"
      },
      "execution_count": 217,
      "outputs": [
        {
          "output_type": "display_data",
          "data": {
            "text/plain": [
              "<Figure size 800x600 with 1 Axes>"
            ],
            "image/png": "[encoded data removed]"
          },
          "metadata": {}
        }
      ]
    },
    {
      "cell_type": "markdown",
      "source": [
        "**<u>Notes:</u>**\n",
        "\n",
        "The points on the Calibration plot at first move along the straight line, but then begins to deviate a bit the higher the predicted probability decile."
      ],
      "metadata": {
        "id": "JFq-umFNRBMT"
      }
    },
    {
      "cell_type": "markdown",
      "source": [
        "####Chi-Squared Test"
      ],
      "metadata": {
        "id": "v7T4oqXoSrJo"
      }
    },
    {
      "cell_type": "code",
      "source": [
        "# Calculate observed and expected frequencies for each decile\n",
        "observed = Churn_DF_Final.groupby('decile')['Churn'].sum()\n",
        "expected = Churn_DF_Final.groupby('decile')['P_Churn'].sum()\n",
        "\n",
        "# Calculate the Chi-squared statistic\n",
        "xs_statistic = np.sum((observed - expected)**2 / expected)\n",
        "\n",
        "# Degrees of freedom (number of groups - 1)\n",
        "df = 20 - 1\n",
        "\n",
        "# Calculate the p-value\n",
        "from scipy.stats import chi2\n",
        "p_value = 1 - chi2.cdf(xs_statistic, df)\n",
        "\n",
        "print(\"Chi-squared Statistic:\", xs_statistic)\n",
        "print(\"P-value:\", p_value)"
      ],
      "metadata": {
        "colab": {
          "base_uri": "https://localhost:8080/"
        },
        "id": "OH8yHBFERWfw",
        "outputId": "ab790bbc-07e9-4006-f06f-867829a68ea8"
      },
      "execution_count": 218,
      "outputs": [
        {
          "output_type": "stream",
          "name": "stdout",
          "text": [
            "Chi-squared Statistic: 21.923864943142497\n",
            "P-value: 0.28806176855401733\n"
          ]
        }
      ]
    },
    {
      "cell_type": "markdown",
      "source": [
        "<u>**Notes:**</u>\n",
        "\n",
        "We note that the p_value of the chi-squared test is > 0.05, meaning we accept the null hypothesis that this model has a good fit on the data. Even with some of the deviations we are seeing in the calibration plot on some of the points, we still can accept that this model is indeed a good overall fit on the data."
      ],
      "metadata": {
        "id": "buooMJUNRnmZ"
      }
    },
    {
      "cell_type": "markdown",
      "source": [
        "### **Confusion Matrix/ROC Curve:**"
      ],
      "metadata": {
        "id": "OFRVmaWvS9qa"
      }
    },
    {
      "cell_type": "markdown",
      "source": [
        "#### Confusion Matrix"
      ],
      "metadata": {
        "id": "znWn1JBVXTAZ"
      }
    },
    {
      "cell_type": "code",
      "source": [
        "### Confusion Matrix\n",
        "Churn_Logit_Res.pred_table(threshold= 0.5) ### 50% Cuttoff"
      ],
      "metadata": {
        "colab": {
          "base_uri": "https://localhost:8080/"
        },
        "id": "UK_GB_blO0i5",
        "outputId": "1b8fe6cc-e3d6-494f-be3a-720c24b87fd6"
      },
      "execution_count": 219,
      "outputs": [
        {
          "output_type": "execute_result",
          "data": {
            "text/plain": [
              "array([[4650.,  524.],\n",
              "       [ 835., 1034.]])"
            ]
          },
          "metadata": {},
          "execution_count": 219
        }
      ]
    },
    {
      "cell_type": "code",
      "source": [
        "### Confusion Matrix Key Metrics at 0.5 cuttoff\n",
        "FP = 524\n",
        "FN = 835\n",
        "TP = 1034\n",
        "TN = 4650\n",
        "Tot_Positives = FN + TP\n",
        "Tot_Negatives = FP + TN\n",
        "N_Plus_P = Tot_Positives + Tot_Negatives\n",
        "\n",
        "MCR = (FP + FN)/N_Plus_P\n",
        "TPR = TP/Tot_Positives  ### Out of all positive cases (FN and TP), what % where accurately labeled positive\n",
        "TNR = TN/Tot_Negatives\n",
        "precision = TP/(TP + FP) ### Out of all cases labeled Positive (TP and FP) what % were accurately labeled positive\n",
        "\n",
        "print(f\"The Misclassified Rate is: {MCR * 100:.2f}%\")\n",
        "print(f\"The True Positive Rate (Sensitivity or Recall) is: {TPR * 100:.2f}%\")\n",
        "print(f\"The True Negative Rate (Specifity) is: {TNR * 100:.2f}%\")\n",
        "print(f\"The Precision is: {precision * 100:.2f}%\")"
      ],
      "metadata": {
        "colab": {
          "base_uri": "https://localhost:8080/"
        },
        "id": "kfzeT-G4TKKt",
        "outputId": "4a38bbed-a243-4148-9c36-f7fb6652333e"
      },
      "execution_count": 220,
      "outputs": [
        {
          "output_type": "stream",
          "name": "stdout",
          "text": [
            "The Misclassified Rate is: 19.30%\n",
            "The True Positive Rate (Sensitivity or Recall) is: 55.32%\n",
            "The True Negative Rate (Specifity) is: 89.87%\n",
            "The Precision is: 66.37%\n"
          ]
        }
      ]
    },
    {
      "cell_type": "code",
      "source": [
        "### Store Preditions\n",
        "Churn_Predict = Churn_Logit_Res.predict()"
      ],
      "metadata": {
        "id": "ytZczy4gaXh-"
      },
      "execution_count": 221,
      "outputs": []
    },
    {
      "cell_type": "code",
      "source": [
        "### Further Classification Metrics\n",
        "# Convert probabilities to 0/1 labels (using 0.5 threshold)\n",
        "Churn_Predict_labels = (Churn_Predict >= 0.5).astype(int)\n",
        "\n",
        "# print report\n",
        "print(classification_report(Y, Churn_Predict_labels))"
      ],
      "metadata": {
        "colab": {
          "base_uri": "https://localhost:8080/"
        },
        "id": "BcnyivDraQIr",
        "outputId": "32be8fe2-b0bb-4261-f18a-0306d8d44044"
      },
      "execution_count": 222,
      "outputs": [
        {
          "output_type": "stream",
          "name": "stdout",
          "text": [
            "              precision    recall  f1-score   support\n",
            "\n",
            "           0       0.85      0.90      0.87      5174\n",
            "           1       0.66      0.55      0.60      1869\n",
            "\n",
            "    accuracy                           0.81      7043\n",
            "   macro avg       0.76      0.73      0.74      7043\n",
            "weighted avg       0.80      0.81      0.80      7043\n",
            "\n"
          ]
        }
      ]
    },
    {
      "cell_type": "markdown",
      "source": [
        "**<u>Notes:</u>**\n",
        "\n",
        "When evaluating the confusion matrix, we see that the misclassification rate sits at 19.3% coupled with True Positive (Recall) and Negative rates of 55.32% and 89.87%. In a real world scenario, this would be considered decent accuracy, especially for a churn model. One thing to note, is that there is a bit of a class unbalance in the original data set regarding the churn field, which could be playing a role in the lower true positive rate."
      ],
      "metadata": {
        "id": "s5HZIaBjWQWY"
      }
    },
    {
      "cell_type": "markdown",
      "source": [
        "#### ROC Curve:"
      ],
      "metadata": {
        "id": "yZ2XY3ScXN1r"
      }
    },
    {
      "cell_type": "code",
      "source": [
        "### Show ROC Curve at Various Thresholds\n",
        "fpr, tpr, threshold = roc_curve(Y, Churn_Predict)\n",
        "roc_auc = auc(fpr, tpr)\n",
        "plt.title('Receiver Operating Characteristic')\n",
        "plt.plot(fpr, tpr, 'b', label = 'AUC = %0.2f' % roc_auc)\n",
        "plt.legend(loc = 'lower right')\n",
        "plt.plot([0, 1], [0, 1],'r--')\n",
        "plt.xlim([0, 1])\n",
        "plt.ylim([0, 1])\n",
        "plt.ylabel('True Positive Rate')\n",
        "plt.xlabel('False Positive Rate')\n",
        "plt.show()"
      ],
      "metadata": {
        "colab": {
          "base_uri": "https://localhost:8080/",
          "height": 472
        },
        "id": "cUsmAxElWXTo",
        "outputId": "cc9212fd-89ef-4cfe-d01b-467f82e00102"
      },
      "execution_count": 223,
      "outputs": [
        {
          "output_type": "display_data",
          "data": {
            "text/plain": [
              "<Figure size 640x480 with 1 Axes>"
            ],
            "image/png": "[encoded data removed]"
          },
          "metadata": {}
        }
      ]
    },
    {
      "cell_type": "markdown",
      "source": [
        "**<u>Notes:</u>**\n",
        "\n",
        "We see generally as the false positive rate increases (due to us lowering our classification threshold), we generally get a good bump in our true positive rate as we move through the curve. The total area under the curve sits at 85%. Overall, this is more confirmation that our model is performing well."
      ],
      "metadata": {
        "id": "6Gb2qsaFYCus"
      }
    },
    {
      "cell_type": "code",
      "source": [
        "### Find the optimal classification threshold\n",
        "# Calculate Youden's J statistic for each threshold\n",
        "youden_j = tpr - fpr  ### Sensitivity - Specificity\n",
        "\n",
        "# Find the optimal threshold (maximizing Youden's J)\n",
        "optimal_idx = np.argmax(youden_j)\n",
        "optimal_threshold = threshold[optimal_idx]\n",
        "\n",
        "# Print results\n",
        "print(f\"Optimal Threshold: {optimal_threshold}\")\n",
        "print(f\"Youden's J Statistic: {youden_j[optimal_idx]}\")"
      ],
      "metadata": {
        "colab": {
          "base_uri": "https://localhost:8080/"
        },
        "id": "sQ2Oh_ijf-0J",
        "outputId": "6e74f34d-fb99-446c-cddc-2fb1dfdd1200"
      },
      "execution_count": 224,
      "outputs": [
        {
          "output_type": "stream",
          "name": "stdout",
          "text": [
            "Optimal Threshold: 0.2558857993208347\n",
            "Youden's J Statistic: 0.5421622869254284\n"
          ]
        }
      ]
    },
    {
      "cell_type": "markdown",
      "source": [
        "### **<u>Final Notes:</u>**\n",
        "\n",
        "Overall:\n",
        "\n",
        "This type of model would be usefull in predicting the probability of customer churn for a business. For the business to know what optimal cutoff to use when attempting to classify guests under churn or no churn, one can either play around with the confusion matrix threshold until they find a cuttoff that balances prediction error and accuracy, or, you can use Youden's J statsitic method, which finds the point on the ROC curve that gives us the optimal threshold that maximizes the difference between Sensitivity and Specificity.\n",
        "<br>\n",
        "<br>\n",
        "As a final note: As mentioned earlier, there is a bit of a class imbalance in the Target Variable:\n",
        "\n",
        "![image.png](data:image/png;base64,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)\n",
        "\n",
        "This may be impacting the metrics such as the Sensitivity score (the model was fitted mostly on observations that did not churn and thereby, it may have a more difficult time recognizing the attributes of a customer that could potentially churn in the future, resulting in a potential false negative). To combat this, I would probably incorporate some form of resampling method on the data to balance out my classes.\n"
      ],
      "metadata": {
        "id": "y1EBNv0Zd5TL"
      }
    }
  ]
}